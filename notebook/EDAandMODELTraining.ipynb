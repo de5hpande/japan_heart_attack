{
 "cells": [
  {
   "cell_type": "code",
   "execution_count": 58,
   "metadata": {},
   "outputs": [],
   "source": [
    "import pandas as pd\n",
    "import numpy as np\n",
    "import matplotlib.pyplot as plt\n",
    "import seaborn as sns"
   ]
  },
  {
   "cell_type": "code",
   "execution_count": 59,
   "metadata": {},
   "outputs": [],
   "source": [
    "df=pd.read_csv(\"japan_heart_attack_dataset.csv\")"
   ]
  },
  {
   "cell_type": "code",
   "execution_count": 60,
   "metadata": {},
   "outputs": [
    {
     "data": {
      "text/html": [
       "<div>\n",
       "<style scoped>\n",
       "    .dataframe tbody tr th:only-of-type {\n",
       "        vertical-align: middle;\n",
       "    }\n",
       "\n",
       "    .dataframe tbody tr th {\n",
       "        vertical-align: top;\n",
       "    }\n",
       "\n",
       "    .dataframe thead th {\n",
       "        text-align: right;\n",
       "    }\n",
       "</style>\n",
       "<table border=\"1\" class=\"dataframe\">\n",
       "  <thead>\n",
       "    <tr style=\"text-align: right;\">\n",
       "      <th></th>\n",
       "      <th>Age</th>\n",
       "      <th>Gender</th>\n",
       "      <th>Region</th>\n",
       "      <th>Smoking_History</th>\n",
       "      <th>Diabetes_History</th>\n",
       "      <th>Hypertension_History</th>\n",
       "      <th>Cholesterol_Level</th>\n",
       "      <th>Physical_Activity</th>\n",
       "      <th>Diet_Quality</th>\n",
       "      <th>Alcohol_Consumption</th>\n",
       "      <th>Stress_Levels</th>\n",
       "      <th>BMI</th>\n",
       "      <th>Heart_Rate</th>\n",
       "      <th>Systolic_BP</th>\n",
       "      <th>Diastolic_BP</th>\n",
       "      <th>Family_History</th>\n",
       "      <th>Heart_Attack_Occurrence</th>\n",
       "    </tr>\n",
       "  </thead>\n",
       "  <tbody>\n",
       "    <tr>\n",
       "      <th>0</th>\n",
       "      <td>56</td>\n",
       "      <td>Male</td>\n",
       "      <td>Urban</td>\n",
       "      <td>Yes</td>\n",
       "      <td>No</td>\n",
       "      <td>No</td>\n",
       "      <td>186.400209</td>\n",
       "      <td>Moderate</td>\n",
       "      <td>Poor</td>\n",
       "      <td>Low</td>\n",
       "      <td>3.644786</td>\n",
       "      <td>33.961349</td>\n",
       "      <td>72.301534</td>\n",
       "      <td>123.902090</td>\n",
       "      <td>85.682809</td>\n",
       "      <td>No</td>\n",
       "      <td>No</td>\n",
       "    </tr>\n",
       "    <tr>\n",
       "      <th>1</th>\n",
       "      <td>69</td>\n",
       "      <td>Male</td>\n",
       "      <td>Urban</td>\n",
       "      <td>No</td>\n",
       "      <td>No</td>\n",
       "      <td>No</td>\n",
       "      <td>185.136747</td>\n",
       "      <td>Low</td>\n",
       "      <td>Good</td>\n",
       "      <td>Low</td>\n",
       "      <td>3.384056</td>\n",
       "      <td>28.242873</td>\n",
       "      <td>57.457640</td>\n",
       "      <td>129.893306</td>\n",
       "      <td>73.524262</td>\n",
       "      <td>Yes</td>\n",
       "      <td>No</td>\n",
       "    </tr>\n",
       "    <tr>\n",
       "      <th>2</th>\n",
       "      <td>46</td>\n",
       "      <td>Male</td>\n",
       "      <td>Rural</td>\n",
       "      <td>Yes</td>\n",
       "      <td>No</td>\n",
       "      <td>No</td>\n",
       "      <td>210.696611</td>\n",
       "      <td>Low</td>\n",
       "      <td>Average</td>\n",
       "      <td>Moderate</td>\n",
       "      <td>3.810911</td>\n",
       "      <td>27.601210</td>\n",
       "      <td>64.658697</td>\n",
       "      <td>145.654901</td>\n",
       "      <td>71.994812</td>\n",
       "      <td>No</td>\n",
       "      <td>No</td>\n",
       "    </tr>\n",
       "    <tr>\n",
       "      <th>3</th>\n",
       "      <td>32</td>\n",
       "      <td>Female</td>\n",
       "      <td>Urban</td>\n",
       "      <td>No</td>\n",
       "      <td>No</td>\n",
       "      <td>No</td>\n",
       "      <td>211.165478</td>\n",
       "      <td>Moderate</td>\n",
       "      <td>Good</td>\n",
       "      <td>High</td>\n",
       "      <td>6.014878</td>\n",
       "      <td>23.717291</td>\n",
       "      <td>55.131469</td>\n",
       "      <td>131.785220</td>\n",
       "      <td>68.211333</td>\n",
       "      <td>No</td>\n",
       "      <td>No</td>\n",
       "    </tr>\n",
       "    <tr>\n",
       "      <th>4</th>\n",
       "      <td>60</td>\n",
       "      <td>Female</td>\n",
       "      <td>Rural</td>\n",
       "      <td>No</td>\n",
       "      <td>No</td>\n",
       "      <td>No</td>\n",
       "      <td>223.814253</td>\n",
       "      <td>High</td>\n",
       "      <td>Good</td>\n",
       "      <td>High</td>\n",
       "      <td>6.806883</td>\n",
       "      <td>19.771578</td>\n",
       "      <td>76.667917</td>\n",
       "      <td>100.694559</td>\n",
       "      <td>92.902489</td>\n",
       "      <td>No</td>\n",
       "      <td>No</td>\n",
       "    </tr>\n",
       "  </tbody>\n",
       "</table>\n",
       "</div>"
      ],
      "text/plain": [
       "   Age  Gender Region Smoking_History Diabetes_History Hypertension_History  \\\n",
       "0   56    Male  Urban             Yes               No                   No   \n",
       "1   69    Male  Urban              No               No                   No   \n",
       "2   46    Male  Rural             Yes               No                   No   \n",
       "3   32  Female  Urban              No               No                   No   \n",
       "4   60  Female  Rural              No               No                   No   \n",
       "\n",
       "   Cholesterol_Level Physical_Activity Diet_Quality Alcohol_Consumption  \\\n",
       "0         186.400209          Moderate         Poor                 Low   \n",
       "1         185.136747               Low         Good                 Low   \n",
       "2         210.696611               Low      Average            Moderate   \n",
       "3         211.165478          Moderate         Good                High   \n",
       "4         223.814253              High         Good                High   \n",
       "\n",
       "   Stress_Levels        BMI  Heart_Rate  Systolic_BP  Diastolic_BP  \\\n",
       "0       3.644786  33.961349   72.301534   123.902090     85.682809   \n",
       "1       3.384056  28.242873   57.457640   129.893306     73.524262   \n",
       "2       3.810911  27.601210   64.658697   145.654901     71.994812   \n",
       "3       6.014878  23.717291   55.131469   131.785220     68.211333   \n",
       "4       6.806883  19.771578   76.667917   100.694559     92.902489   \n",
       "\n",
       "  Family_History Heart_Attack_Occurrence  \n",
       "0             No                      No  \n",
       "1            Yes                      No  \n",
       "2             No                      No  \n",
       "3             No                      No  \n",
       "4             No                      No  "
      ]
     },
     "execution_count": 60,
     "metadata": {},
     "output_type": "execute_result"
    }
   ],
   "source": [
    "df.head()"
   ]
  },
  {
   "cell_type": "code",
   "execution_count": 61,
   "metadata": {},
   "outputs": [
    {
     "data": {
      "text/plain": [
       "(30000, 17)"
      ]
     },
     "execution_count": 61,
     "metadata": {},
     "output_type": "execute_result"
    }
   ],
   "source": [
    "df.shape"
   ]
  },
  {
   "cell_type": "code",
   "execution_count": 62,
   "metadata": {},
   "outputs": [
    {
     "data": {
      "text/plain": [
       "Age                           0\n",
       "Gender                        0\n",
       "Region                        0\n",
       "Smoking_History               0\n",
       "Diabetes_History              0\n",
       "Hypertension_History          0\n",
       "Cholesterol_Level             0\n",
       "Physical_Activity             0\n",
       "Diet_Quality                  0\n",
       "Alcohol_Consumption        3015\n",
       "Stress_Levels                 0\n",
       "BMI                           0\n",
       "Heart_Rate                    0\n",
       "Systolic_BP                   0\n",
       "Diastolic_BP                  0\n",
       "Family_History                0\n",
       "Heart_Attack_Occurrence       0\n",
       "dtype: int64"
      ]
     },
     "execution_count": 62,
     "metadata": {},
     "output_type": "execute_result"
    }
   ],
   "source": [
    "df.isnull().sum()"
   ]
  },
  {
   "cell_type": "code",
   "execution_count": 63,
   "metadata": {},
   "outputs": [
    {
     "name": "stderr",
     "output_type": "stream",
     "text": [
      "C:\\Users\\Pavilion\\AppData\\Local\\Temp\\ipykernel_1368\\2303154068.py:1: FutureWarning: A value is trying to be set on a copy of a DataFrame or Series through chained assignment using an inplace method.\n",
      "The behavior will change in pandas 3.0. This inplace method will never work because the intermediate object on which we are setting values always behaves as a copy.\n",
      "\n",
      "For example, when doing 'df[col].method(value, inplace=True)', try using 'df.method({col: value}, inplace=True)' or df[col] = df[col].method(value) instead, to perform the operation inplace on the original object.\n",
      "\n",
      "\n",
      "  df.Alcohol_Consumption.fillna(df.Alcohol_Consumption.mode()[0],inplace=True)\n"
     ]
    }
   ],
   "source": [
    "df.Alcohol_Consumption.fillna(df.Alcohol_Consumption.mode()[0],inplace=True)"
   ]
  },
  {
   "cell_type": "code",
   "execution_count": 64,
   "metadata": {},
   "outputs": [
    {
     "data": {
      "text/plain": [
       "Age                        0\n",
       "Gender                     0\n",
       "Region                     0\n",
       "Smoking_History            0\n",
       "Diabetes_History           0\n",
       "Hypertension_History       0\n",
       "Cholesterol_Level          0\n",
       "Physical_Activity          0\n",
       "Diet_Quality               0\n",
       "Alcohol_Consumption        0\n",
       "Stress_Levels              0\n",
       "BMI                        0\n",
       "Heart_Rate                 0\n",
       "Systolic_BP                0\n",
       "Diastolic_BP               0\n",
       "Family_History             0\n",
       "Heart_Attack_Occurrence    0\n",
       "dtype: int64"
      ]
     },
     "execution_count": 64,
     "metadata": {},
     "output_type": "execute_result"
    }
   ],
   "source": [
    "df.isnull().sum()"
   ]
  },
  {
   "cell_type": "code",
   "execution_count": 65,
   "metadata": {},
   "outputs": [
    {
     "data": {
      "text/html": [
       "<div>\n",
       "<style scoped>\n",
       "    .dataframe tbody tr th:only-of-type {\n",
       "        vertical-align: middle;\n",
       "    }\n",
       "\n",
       "    .dataframe tbody tr th {\n",
       "        vertical-align: top;\n",
       "    }\n",
       "\n",
       "    .dataframe thead th {\n",
       "        text-align: right;\n",
       "    }\n",
       "</style>\n",
       "<table border=\"1\" class=\"dataframe\">\n",
       "  <thead>\n",
       "    <tr style=\"text-align: right;\">\n",
       "      <th></th>\n",
       "      <th>Age</th>\n",
       "      <th>Gender</th>\n",
       "      <th>Region</th>\n",
       "      <th>Smoking_History</th>\n",
       "      <th>Diabetes_History</th>\n",
       "      <th>Hypertension_History</th>\n",
       "      <th>Cholesterol_Level</th>\n",
       "      <th>Physical_Activity</th>\n",
       "      <th>Diet_Quality</th>\n",
       "      <th>Alcohol_Consumption</th>\n",
       "      <th>Stress_Levels</th>\n",
       "      <th>BMI</th>\n",
       "      <th>Heart_Rate</th>\n",
       "      <th>Systolic_BP</th>\n",
       "      <th>Diastolic_BP</th>\n",
       "      <th>Family_History</th>\n",
       "      <th>Heart_Attack_Occurrence</th>\n",
       "    </tr>\n",
       "  </thead>\n",
       "  <tbody>\n",
       "    <tr>\n",
       "      <th>0</th>\n",
       "      <td>56</td>\n",
       "      <td>Male</td>\n",
       "      <td>Urban</td>\n",
       "      <td>Yes</td>\n",
       "      <td>No</td>\n",
       "      <td>No</td>\n",
       "      <td>186.400209</td>\n",
       "      <td>Moderate</td>\n",
       "      <td>Poor</td>\n",
       "      <td>Low</td>\n",
       "      <td>3.644786</td>\n",
       "      <td>33.961349</td>\n",
       "      <td>72.301534</td>\n",
       "      <td>123.902090</td>\n",
       "      <td>85.682809</td>\n",
       "      <td>No</td>\n",
       "      <td>No</td>\n",
       "    </tr>\n",
       "    <tr>\n",
       "      <th>1</th>\n",
       "      <td>69</td>\n",
       "      <td>Male</td>\n",
       "      <td>Urban</td>\n",
       "      <td>No</td>\n",
       "      <td>No</td>\n",
       "      <td>No</td>\n",
       "      <td>185.136747</td>\n",
       "      <td>Low</td>\n",
       "      <td>Good</td>\n",
       "      <td>Low</td>\n",
       "      <td>3.384056</td>\n",
       "      <td>28.242873</td>\n",
       "      <td>57.457640</td>\n",
       "      <td>129.893306</td>\n",
       "      <td>73.524262</td>\n",
       "      <td>Yes</td>\n",
       "      <td>No</td>\n",
       "    </tr>\n",
       "  </tbody>\n",
       "</table>\n",
       "</div>"
      ],
      "text/plain": [
       "   Age Gender Region Smoking_History Diabetes_History Hypertension_History  \\\n",
       "0   56   Male  Urban             Yes               No                   No   \n",
       "1   69   Male  Urban              No               No                   No   \n",
       "\n",
       "   Cholesterol_Level Physical_Activity Diet_Quality Alcohol_Consumption  \\\n",
       "0         186.400209          Moderate         Poor                 Low   \n",
       "1         185.136747               Low         Good                 Low   \n",
       "\n",
       "   Stress_Levels        BMI  Heart_Rate  Systolic_BP  Diastolic_BP  \\\n",
       "0       3.644786  33.961349   72.301534   123.902090     85.682809   \n",
       "1       3.384056  28.242873   57.457640   129.893306     73.524262   \n",
       "\n",
       "  Family_History Heart_Attack_Occurrence  \n",
       "0             No                      No  \n",
       "1            Yes                      No  "
      ]
     },
     "execution_count": 65,
     "metadata": {},
     "output_type": "execute_result"
    }
   ],
   "source": [
    "df.head(2)"
   ]
  },
  {
   "cell_type": "code",
   "execution_count": 66,
   "metadata": {},
   "outputs": [
    {
     "name": "stdout",
     "output_type": "stream",
     "text": [
      "Gender\n",
      "Male      15067\n",
      "Female    14933\n",
      "Name: count, dtype: int64\n",
      "Region\n",
      "Urban    21061\n",
      "Rural     8939\n",
      "Name: count, dtype: int64\n",
      "Smoking_History\n",
      "No     21003\n",
      "Yes     8997\n",
      "Name: count, dtype: int64\n",
      "Diabetes_History\n",
      "No     23903\n",
      "Yes     6097\n",
      "Name: count, dtype: int64\n",
      "Hypertension_History\n",
      "No     22546\n",
      "Yes     7454\n",
      "Name: count, dtype: int64\n",
      "Diet_Quality\n",
      "Good       12006\n",
      "Average    11971\n",
      "Poor        6023\n",
      "Name: count, dtype: int64\n",
      "Alcohol_Consumption\n",
      "Moderate    15074\n",
      "Low          9098\n",
      "High         5828\n",
      "Name: count, dtype: int64\n",
      "Family_History\n",
      "No     21064\n",
      "Yes     8936\n",
      "Name: count, dtype: int64\n",
      "Heart_Attack_Occurrence\n",
      "No     27036\n",
      "Yes     2964\n",
      "Name: count, dtype: int64\n"
     ]
    }
   ],
   "source": [
    "print(df[\"Gender\"].value_counts())\n",
    "print(df[\"Region\"].value_counts())\n",
    "print(df[\"Smoking_History\"].value_counts())\n",
    "print(df[\"Diabetes_History\"].value_counts())\n",
    "print(df[\"Hypertension_History\"].value_counts())\n",
    "print(df[\"Diet_Quality\"].value_counts())\n",
    "print(df[\"Alcohol_Consumption\"].value_counts())\n",
    "print(df[\"Family_History\"].value_counts())\n",
    "print(df[\"Heart_Attack_Occurrence\"].value_counts())"
   ]
  },
  {
   "cell_type": "code",
   "execution_count": 67,
   "metadata": {},
   "outputs": [
    {
     "name": "stdout",
     "output_type": "stream",
     "text": [
      "Num of Numerical Feature : 7\n"
     ]
    }
   ],
   "source": [
    "## get all the numeric features\n",
    "\n",
    "num_features=[feature for feature in df.columns if df[feature].dtype!=\"O\"]\n",
    "print('Num of Numerical Feature :',len(num_features))"
   ]
  },
  {
   "cell_type": "code",
   "execution_count": 68,
   "metadata": {},
   "outputs": [
    {
     "name": "stdout",
     "output_type": "stream",
     "text": [
      "Num of Categorical Features : 10\n"
     ]
    }
   ],
   "source": [
    "## get all the numeric features\n",
    "cat_features = [feature for feature in df.columns if df[feature].dtype == 'O']\n",
    "print('Num of Categorical Features :', len(cat_features))"
   ]
  },
  {
   "cell_type": "code",
   "execution_count": 69,
   "metadata": {},
   "outputs": [
    {
     "name": "stdout",
     "output_type": "stream",
     "text": [
      "<class 'pandas.core.frame.DataFrame'>\n",
      "RangeIndex: 30000 entries, 0 to 29999\n",
      "Data columns (total 17 columns):\n",
      " #   Column                   Non-Null Count  Dtype  \n",
      "---  ------                   --------------  -----  \n",
      " 0   Age                      30000 non-null  int64  \n",
      " 1   Gender                   30000 non-null  object \n",
      " 2   Region                   30000 non-null  object \n",
      " 3   Smoking_History          30000 non-null  object \n",
      " 4   Diabetes_History         30000 non-null  object \n",
      " 5   Hypertension_History     30000 non-null  object \n",
      " 6   Cholesterol_Level        30000 non-null  float64\n",
      " 7   Physical_Activity        30000 non-null  object \n",
      " 8   Diet_Quality             30000 non-null  object \n",
      " 9   Alcohol_Consumption      30000 non-null  object \n",
      " 10  Stress_Levels            30000 non-null  float64\n",
      " 11  BMI                      30000 non-null  float64\n",
      " 12  Heart_Rate               30000 non-null  float64\n",
      " 13  Systolic_BP              30000 non-null  float64\n",
      " 14  Diastolic_BP             30000 non-null  float64\n",
      " 15  Family_History           30000 non-null  object \n",
      " 16  Heart_Attack_Occurrence  30000 non-null  object \n",
      "dtypes: float64(6), int64(1), object(10)\n",
      "memory usage: 3.9+ MB\n"
     ]
    }
   ],
   "source": [
    "df.info()"
   ]
  },
  {
   "cell_type": "code",
   "execution_count": 70,
   "metadata": {},
   "outputs": [],
   "source": [
    "from sklearn.preprocessing import LabelEncoder\n",
    "\n",
    "LE = LabelEncoder()\n",
    "df[\"Heart_Attack_Occurrence\"] = LE.fit_transform(df[\"Heart_Attack_Occurrence\"])"
   ]
  },
  {
   "cell_type": "code",
   "execution_count": 71,
   "metadata": {},
   "outputs": [
    {
     "data": {
      "text/plain": [
       "0        0\n",
       "1        0\n",
       "2        0\n",
       "3        0\n",
       "4        0\n",
       "        ..\n",
       "29995    0\n",
       "29996    0\n",
       "29997    0\n",
       "29998    0\n",
       "29999    0\n",
       "Name: Heart_Attack_Occurrence, Length: 30000, dtype: int32"
      ]
     },
     "execution_count": 71,
     "metadata": {},
     "output_type": "execute_result"
    }
   ],
   "source": [
    "df[\"Heart_Attack_Occurrence\"]"
   ]
  },
  {
   "cell_type": "markdown",
   "metadata": {},
   "source": [
    "## Train Test Split And Model Training"
   ]
  },
  {
   "cell_type": "code",
   "execution_count": 72,
   "metadata": {},
   "outputs": [],
   "source": [
    "from sklearn.model_selection import train_test_split\n",
    "\n",
    "X = df.drop(['Heart_Attack_Occurrence'], axis=1)\n",
    "y = df['Heart_Attack_Occurrence']\n",
    "X_train,X_test,y_train,y_test=train_test_split(X,y,test_size=0.2,random_state=42)\n"
   ]
  },
  {
   "cell_type": "code",
   "execution_count": 73,
   "metadata": {},
   "outputs": [],
   "source": [
    "# Create Column Transformer with 3 types of transformers\n",
    "cat_features=X.select_dtypes(include=\"object\").columns\n",
    "num_features=X.select_dtypes(exclude=\"object\").columns\n",
    "\n",
    "from sklearn.preprocessing import OneHotEncoder,StandardScaler\n",
    "from sklearn.compose import ColumnTransformer\n",
    "\n",
    "numeric_transformer = StandardScaler()\n",
    "oh_transformer = OneHotEncoder(drop='first')\n",
    "\n",
    "preprocessor=ColumnTransformer(\n",
    "    [\n",
    "        (\"OneHotEncoder\",oh_transformer,cat_features),\n",
    "        (\"StandardScaler\",numeric_transformer,num_features)\n",
    "    ]\n",
    ")"
   ]
  },
  {
   "cell_type": "code",
   "execution_count": 74,
   "metadata": {},
   "outputs": [],
   "source": [
    "X_train=preprocessor.fit_transform(X_train)"
   ]
  },
  {
   "cell_type": "code",
   "execution_count": 95,
   "metadata": {},
   "outputs": [],
   "source": [
    "from sklearn.ensemble import RandomForestClassifier\n",
    "from sklearn.ensemble import GradientBoostingClassifier\n",
    "from sklearn.tree import DecisionTreeClassifier\n",
    "from sklearn.ensemble import AdaBoostClassifier\n",
    "from sklearn.linear_model import LogisticRegression\n",
    "from sklearn.metrics import accuracy_score, classification_report,ConfusionMatrixDisplay, \\\n",
    "                            precision_score, recall_score, f1_score, roc_auc_score,roc_curve "
   ]
  }
 ],
 "metadata": {
  "kernelspec": {
   "display_name": "Python 3",
   "language": "python",
   "name": "python3"
  },
  "language_info": {
   "codemirror_mode": {
    "name": "ipython",
    "version": 3
   },
   "file_extension": ".py",
   "mimetype": "text/x-python",
   "name": "python",
   "nbconvert_exporter": "python",
   "pygments_lexer": "ipython3",
   "version": "3.12.0"
  }
 },
 "nbformat": 4,
 "nbformat_minor": 2
}
